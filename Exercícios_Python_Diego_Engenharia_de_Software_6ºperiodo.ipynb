{
  "nbformat": 4,
  "nbformat_minor": 0,
  "metadata": {
    "colab": {
      "provenance": [],
      "authorship_tag": "ABX9TyOwGAZiRBnI2GbDOlA0BSSP",
      "include_colab_link": true
    },
    "kernelspec": {
      "name": "python3",
      "display_name": "Python 3"
    },
    "language_info": {
      "name": "python"
    }
  },
  "cells": [
    {
      "cell_type": "markdown",
      "metadata": {
        "id": "view-in-github",
        "colab_type": "text"
      },
      "source": [
        "<a href=\"https://colab.research.google.com/github/Diego251Fagundes/UMC--IA/blob/main/Exerc%C3%ADcios_Python_Diego_Engenharia_de_Software_6%C2%BAperiodo.ipynb\" target=\"_parent\"><img src=\"https://colab.research.google.com/assets/colab-badge.svg\" alt=\"Open In Colab\"/></a>"
      ]
    },
    {
      "cell_type": "markdown",
      "source": [
        "# **Lista Python**"
      ],
      "metadata": {
        "id": "l-iFhXyMM42_"
      }
    },
    {
      "cell_type": "markdown",
      "source": [
        "# 1. Calculadora de Médias\n",
        "**Enunciado:** Crie um programa que calcule a média aritmética de uma lista de números fornecida pelo usuário. O programa deve permitir que o usuário insira quantos números desejar e, ao final, exibir a média dos números inseridos."
      ],
      "metadata": {
        "id": "8EZBneKtNbQm"
      }
    },
    {
      "cell_type": "code",
      "source": [
        "lista_numero = [] # usado para criar listas\n",
        "print(\"calculadora de média\")\n",
        "\n",
        "# Mantem o codigo em loop\n",
        "while True:\n",
        "  numero = input(\"Digite um número pra continuar ou 'fim' para encerrar e calcular: \")\n",
        "  if numero == \"fim\":\n",
        "    break # encerra o loop while\n",
        "  lista_numero.append(float(numero)) # adiciona o numero na lista\n",
        "\n",
        "# Calcula a media somando todos os numeros da lista e dividindo pelo tamanho da lista\n",
        "media = sum(lista_numero)/len(lista_numero)\n",
        "print(f\"A média dos números inseridos é: {media}\")"
      ],
      "metadata": {
        "id": "waL2pr3JOjG2",
        "colab": {
          "base_uri": "https://localhost:8080/"
        },
        "outputId": "d4b71f1c-ad87-4bbb-ef4e-03d7688e954a"
      },
      "execution_count": null,
      "outputs": [
        {
          "output_type": "stream",
          "name": "stdout",
          "text": [
            "calculadora de média\n",
            "Digite um número pra continuar ou 'fim' para encerrar: 8.5\n",
            "Digite um número pra continuar ou 'fim' para encerrar: 8\n",
            "Digite um número pra continuar ou 'fim' para encerrar: 9\n",
            "Digite um número pra continuar ou 'fim' para encerrar: fim\n",
            "A média dos números inseridos é: 8.5\n"
          ]
        }
      ]
    },
    {
      "cell_type": "markdown",
      "source": [
        "# 2. Contador de Caracteres\n",
        "**Enunciado:** Desenvolva um script que conte quantas vezes cada caractere aparece em uma string fornecida pelo usuário. O programa deve ignorar espaços e diferenciar maiúsculas de minúsculas."
      ],
      "metadata": {
        "id": "3fb_VpWdYRD_"
      }
    },
    {
      "cell_type": "code",
      "source": [
        "frase = input(\"Digite uma frase: \")\n",
        "frase_sem_espacos = frase.replace(\" \", \"\") #replace remove/troca o espaço por nada\n",
        "\n",
        "contagem = {} # Dicionário em python\n",
        "\n",
        "# Laço for para percorrer a frase e contar cada caracter\n",
        "for caractere in frase_sem_espacos:\n",
        "  if caractere in contagem:\n",
        "    contagem[caractere] += 1\n",
        "  else:\n",
        "    contagem[caractere] = 1\n",
        "\n",
        "print(\"Contagem de caracteres:\")\n",
        "\n",
        "# Para cada 'letra' e 'numero_de_vezes' no Dicionário\n",
        "for letra, numero_de_vezes in contagem.items():\n",
        "    print(f\"O caractere '{letra}' apareceu {numero_de_vezes} vez(es).\")"
      ],
      "metadata": {
        "id": "3Xnc6IzaYZDW",
        "colab": {
          "base_uri": "https://localhost:8080/"
        },
        "outputId": "f3d0168c-bd20-4206-bd3b-0af00bd4d89a"
      },
      "execution_count": null,
      "outputs": [
        {
          "output_type": "stream",
          "name": "stdout",
          "text": [
            "Digite uma frase: O neymar é o melhor do mundo\n",
            "Contagem de caracteres:\n",
            "O caractere 'O' apareceu 1 vez(es).\n",
            "O caractere 'n' apareceu 2 vez(es).\n",
            "O caractere 'e' apareceu 2 vez(es).\n",
            "O caractere 'y' apareceu 1 vez(es).\n",
            "O caractere 'm' apareceu 3 vez(es).\n",
            "O caractere 'a' apareceu 1 vez(es).\n",
            "O caractere 'r' apareceu 2 vez(es).\n",
            "O caractere 'é' apareceu 1 vez(es).\n",
            "O caractere 'o' apareceu 4 vez(es).\n",
            "O caractere 'l' apareceu 1 vez(es).\n",
            "O caractere 'h' apareceu 1 vez(es).\n",
            "O caractere 'd' apareceu 2 vez(es).\n",
            "O caractere 'u' apareceu 1 vez(es).\n"
          ]
        }
      ]
    },
    {
      "cell_type": "markdown",
      "source": [
        "# 3. Verificador de Palíndromo\n",
        "**Enunciado:** Escreva um programa que verifique se uma palavra ou frase (ignorando espaços e pontuações) é um palíndromo, ou seja, se ela é igual quando lida de trás para frente."
      ],
      "metadata": {
        "id": "KoGm63u8d5Mu"
      }
    },
    {
      "cell_type": "code",
      "source": [
        "frase = input(\"Digite uma frase: \")\n",
        "\n",
        "frase_limpa = frase.lower() # Converte tudo para minúsculas.\n",
        "frase_limpa = frase_limpa.replace(\" \", \"\") # Remove todos os espaços.\n",
        "\n",
        "# Remove todos os caracteres de pontuação\n",
        "pontuacoes = '''!()-[]{};:'\"\\,<>./?@#$%^&*_~'''\n",
        "for pontuacao in pontuacoes:\n",
        "    frase_limpa = frase_limpa.replace(pontuacao, \"\")\n",
        "\n",
        "frase_invertida = frase_limpa[::-1] # Inverte a frase\n",
        "\n",
        "print(f\"Frase original: '{frase}'\")\n",
        "print(f\"Frase processada e limpa: '{frase_limpa}'\")\n",
        "print(f\"Frase invertida: '{frase_invertida}'\")\n",
        "\n",
        "if frase_limpa == frase_invertida: # Compara a frase sem espaço e ppontuação com ela mesma invertida\n",
        "    print(\"É um palíndromo!\")\n",
        "else:\n",
        "    print(\"Não é um palíndromo.\")"
      ],
      "metadata": {
        "id": "GH9M_P36eDAu",
        "colab": {
          "base_uri": "https://localhost:8080/"
        },
        "outputId": "4472d46b-8a14-4788-e114-e9eb43dda549"
      },
      "execution_count": null,
      "outputs": [
        {
          "output_type": "stream",
          "name": "stdout",
          "text": [
            "Digite uma frase: ana ana ana ana\n",
            "Frase original: 'ana ana ana ana'\n",
            "Frase processada e limpa: 'anaanaanaana'\n",
            "Frase invertida: 'anaanaanaana'\n",
            "É um palíndromo!\n"
          ]
        }
      ]
    },
    {
      "cell_type": "markdown",
      "source": [
        "# 4. Conversor de Temperatura\n",
        "**Enunciado:** Crie um conversor que transforme temperaturas de Celsius para Fahrenheit e vice-versa. O programa deve permitir que o usuário escolha o tipo de conversão e insira a temperatura."
      ],
      "metadata": {
        "id": "57mfustkRVGO"
      }
    },
    {
      "cell_type": "code",
      "source": [
        "# Função que Converte Celsius para Fahrenheit\n",
        "def celsius_para_fahrenheit(celsius):\n",
        "  fahrenheit = (celsius * 9/5) + 32\n",
        "  return fahrenheit\n",
        "\n",
        "# Função que Converte Fahrenheit para Celsius\n",
        "def fahrenheit_para_celsius(fahrenheit):\n",
        "  celsius = (fahrenheit-32) * 5/9\n",
        "  return celsius\n",
        "\n",
        "# Fornece as opções para o usuário\n",
        "print(\"1. Celsius para Fahrenheit\")\n",
        "print(\"2. Fahrenheit para Celsius\")\n",
        "opcao = int(input(\"Digite o número da opção desejada: \"))\n",
        "\n",
        "if opcao ==1:\n",
        "  celsius = float(input(\"Digite a temperatura em Celsius:\"))\n",
        "  fahrenheit = celsius_para_fahrenheit(celsius)\n",
        "  print(\"A temperatura em Fahrenheit é:\", fahrenheit)\n",
        "elif opcao ==2:\n",
        "  fahrenheit = float(input(\"Digite a temperatura em Fahrenheit:\"))\n",
        "  celsius = fahrenheit_para_celsius(fahrenheit)\n",
        "  print(\"A temperatura em Celsius é:\", celsius)\n",
        "else:\n",
        "  print(\"Opção inválida\")"
      ],
      "metadata": {
        "collapsed": true,
        "id": "nYaKU27vSZZm",
        "colab": {
          "base_uri": "https://localhost:8080/"
        },
        "outputId": "f902f4a1-f040-4326-e215-122e57e598c8"
      },
      "execution_count": null,
      "outputs": [
        {
          "output_type": "stream",
          "name": "stdout",
          "text": [
            "1. Celsius para Fahrenheit\n",
            "2. Fahrenheit para Celsius\n",
            "Digite o número da opção desejada: 1\n",
            "Digite a temperatura em Celsius:20\n",
            "A temperatura em Fahrenheit é: 68.0\n"
          ]
        }
      ]
    },
    {
      "cell_type": "markdown",
      "source": [
        "# 5. Gerador de Tabuada\n",
        "**Enunciado:** Desenvolva um programa que gere a tabuada de um número fornecido pelo usuário. O programa deve exibir a multiplicação de 1 até 10 para o número informado."
      ],
      "metadata": {
        "id": "WbkB38wXOmSk"
      }
    },
    {
      "cell_type": "code",
      "source": [
        "numero = int(input(\"Digite um número para gerar a tabuada: \"))\n",
        "\n",
        "# Um laço de repetição para cada numero\n",
        "for i in range(1,11): # (1, 10) começa no 1 e termina no 10\n",
        "  resultado = numero * i\n",
        "  print(f\"{numero} x {i} = {resultado}\")"
      ],
      "metadata": {
        "id": "Fqapy2o8OqHz",
        "colab": {
          "base_uri": "https://localhost:8080/"
        },
        "outputId": "0e937a08-f82a-4d18-af04-cce22489fdc9"
      },
      "execution_count": null,
      "outputs": [
        {
          "output_type": "stream",
          "name": "stdout",
          "text": [
            "Digite um número para gerar a tabuada: 10\n",
            "10 x 1 = 10\n",
            "10 x 2 = 20\n",
            "10 x 3 = 30\n",
            "10 x 4 = 40\n",
            "10 x 5 = 50\n",
            "10 x 6 = 60\n",
            "10 x 7 = 70\n",
            "10 x 8 = 80\n",
            "10 x 9 = 90\n",
            "10 x 10 = 100\n"
          ]
        }
      ]
    },
    {
      "cell_type": "markdown",
      "source": [
        "# 6. Simulador de Lançamento de Dados\n",
        "**Enunciado:** Escreva um script que simule o lançamento de um dado de 6 faces. O programa deve solicitar ao usuário quantas vezes ele deseja lançar o dado e mostrar os resultados de cada lançamento."
      ],
      "metadata": {
        "id": "rve8g9Z-UVFN"
      }
    },
    {
      "cell_type": "code",
      "source": [
        "import random\n",
        "\n",
        "total_lancamentos = int(input(\"Digite o número de vezes que deseja lançar o dado: \"))\n",
        "\n",
        "for i in range(total_lancamentos):\n",
        "  resultado = random.randint(1,6) # sorteia um numero entre 1 a 6\n",
        "  print(f\"O resultado do lançamento {i+1} foi: {resultado}\") # i + 1 porque começa em zero"
      ],
      "metadata": {
        "id": "nuZixNu_UbSN",
        "colab": {
          "base_uri": "https://localhost:8080/"
        },
        "outputId": "2e4e4853-633b-4dba-eac1-8e81cfe46cd2"
      },
      "execution_count": null,
      "outputs": [
        {
          "output_type": "stream",
          "name": "stdout",
          "text": [
            "Digite o número de vezes que deseja lançar o dado: 5\n",
            "O resultado do lançamento 1 foi: 3\n",
            "O resultado do lançamento 2 foi: 3\n",
            "O resultado do lançamento 3 foi: 1\n",
            "O resultado do lançamento 4 foi: 5\n",
            "O resultado do lançamento 5 foi: 4\n"
          ]
        }
      ]
    },
    {
      "cell_type": "markdown",
      "source": [
        "# 7. Ordenação de Lista\n",
        "**Enunciado:** Desenvolva um programa que receba uma lista de números do usuário e ordene essa lista em ordem crescente. O programa deve exibir a lista antes e depois da ordenação."
      ],
      "metadata": {
        "id": "_ioPb-PPXbbd"
      }
    },
    {
      "cell_type": "code",
      "source": [
        "lista_numeros = []\n",
        "\n",
        "while True:\n",
        "  numero = input(\"Digite um número para a lista ou 'fim' para encerrar: \")\n",
        "  if numero == \"fim\":\n",
        "    break\n",
        "  lista_numeros.append(float(numero))\n",
        "\n",
        "print(f\"Lista original: {lista_numeros}\")\n",
        "lista_numeros.sort() # .sort organiza a lista\n",
        "print(f\"Lista em ordem crescente: {lista_numeros}\")"
      ],
      "metadata": {
        "id": "8944iL27Xi-s",
        "colab": {
          "base_uri": "https://localhost:8080/"
        },
        "outputId": "d5e3c740-737d-4f05-a635-f9dea1cfc1f0"
      },
      "execution_count": null,
      "outputs": [
        {
          "output_type": "stream",
          "name": "stdout",
          "text": [
            "Digite um número para a lista ou 'fim' para encerrar: 30\n",
            "Digite um número para a lista ou 'fim' para encerrar: 90\n",
            "Digite um número para a lista ou 'fim' para encerrar: 50\n",
            "Digite um número para a lista ou 'fim' para encerrar: 40\n",
            "Digite um número para a lista ou 'fim' para encerrar: 30\n",
            "Digite um número para a lista ou 'fim' para encerrar: fim\n",
            "Lista original: [30.0, 90.0, 50.0, 40.0, 30.0]\n",
            "Lista em ordem crescente: [30.0, 30.0, 40.0, 50.0, 90.0]\n"
          ]
        }
      ]
    },
    {
      "cell_type": "markdown",
      "source": [
        "# 8. Verificador de Números Primos\n",
        "**Enunciado:** Crie um programa que determine se um número fornecido pelo usuário é primo. O programa deve informar se o número é primo ou não e listar todos os divisores do número."
      ],
      "metadata": {
        "id": "bFBZwzvYbE0M"
      }
    },
    {
      "cell_type": "code",
      "source": [
        "numero = int(input(\"Digite um número: \"))\n",
        "divisores = []\n",
        "\n",
        "for i in range(1, numero +1):\n",
        "  if numero % i == 0: # pega o resto da divisão e verifica se é igual a zero\n",
        "    divisores.append(i)\n",
        "\n",
        "if len(divisores) == 2:\n",
        "  print(f\"{numero} é um número primo\")\n",
        "else:\n",
        "  print(f\"{numero} não é um número primo\")\n",
        "\n",
        "print(f\"Os divisores de {numero} são: {divisores}\")"
      ],
      "metadata": {
        "id": "8FJf6j1CbSaM",
        "colab": {
          "base_uri": "https://localhost:8080/"
        },
        "outputId": "b6d02b6a-d30d-40f7-e171-f8e19971b582"
      },
      "execution_count": null,
      "outputs": [
        {
          "output_type": "stream",
          "name": "stdout",
          "text": [
            "Digite um número: 3\n",
            "3 é um número primo\n",
            "Os divisores de 3 são: [1, 3]\n"
          ]
        }
      ]
    },
    {
      "cell_type": "markdown",
      "source": [
        "# 9. Sistema de Login Simples\n",
        "**Enunciado:** Implemente um sistema de login simples que armazene os nomes de usuário e senhas em um dicionário. O programa deve permitir que o usuário se cadastre e faça login, validando as credenciais inseridas."
      ],
      "metadata": {
        "id": "osolxnIL9Tc1"
      }
    },
    {
      "cell_type": "code",
      "source": [
        "credenciais = {} # Dicionario\n",
        "\n",
        "while True:\n",
        "  print(\"MENU PRINCIPAL\")\n",
        "  print(\"1. Cadastrar\")\n",
        "  print(\"2. Login\")\n",
        "  print(\"3. Sair\")\n",
        "\n",
        "  opcao =input(\"Digite o numero da opção desejada: \")\n",
        "\n",
        "  if opcao == '1':\n",
        "    usuario = input(\"Digite o nome de Usuário: \")\n",
        "    if usuario in credenciais:\n",
        "      print(\"Esse usuário já existe\")\n",
        "    else:\n",
        "      senha = input(\"Digite a senha: \")\n",
        "      credenciais[usuario] = senha\n",
        "      print(\"Usuário cadastrado com sucesso\")\n",
        "\n",
        "  elif opcao == '2':\n",
        "    usuario = input(\"Digite o nome de Usuário: \")\n",
        "    if usuario not in credenciais:\n",
        "      print(\"Usuário não cadastrado\")\n",
        "    else:\n",
        "      senha = input(\"Digite a senha: \")\n",
        "      if senha == credenciais[usuario]:\n",
        "        print(\"Login realizado com sucesso\")\n",
        "      else:\n",
        "        print(\"Senha incorreta\")\n",
        "\n",
        "  elif opcao == '3':\n",
        "    break\n",
        "\n",
        "  else:\n",
        "    print(\"Opção inválida, digite um numero válido\")"
      ],
      "metadata": {
        "id": "iwr-tiMa-Oat",
        "colab": {
          "base_uri": "https://localhost:8080/"
        },
        "outputId": "f85c5175-0043-4a85-d174-80aa2b815989"
      },
      "execution_count": null,
      "outputs": [
        {
          "name": "stdout",
          "output_type": "stream",
          "text": [
            "MENU PRINCIPAL\n",
            "1. Cadastrar\n",
            "2. Login\n",
            "3. Sair\n",
            "Digite o numero da opção desejada: 1\n",
            "Digite o nome de Usuário: Diego\n",
            "Digite a senha: 1234\n",
            "Usuário cadastrado com sucesso\n",
            "MENU PRINCIPAL\n",
            "1. Cadastrar\n",
            "2. Login\n",
            "3. Sair\n",
            "Digite o numero da opção desejada: 2\n",
            "Digite o nome de Usuário: Diego\n",
            "Digite a senha: 1234\n",
            "Login realizado com sucesso\n",
            "MENU PRINCIPAL\n",
            "1. Cadastrar\n",
            "2. Login\n",
            "3. Sair\n",
            "Digite o numero da opção desejada: 3\n"
          ]
        }
      ]
    },
    {
      "cell_type": "markdown",
      "source": [
        "# 10. Calculadora de Fatorial\n",
        "**Enunciado:** Escreva um programa que calcule o fatorial de um número fornecido pelo usuário utilizando um loop for. O programa deve exibir o resultado do fatorial ao final."
      ],
      "metadata": {
        "id": "vcMoit22HGl2"
      }
    },
    {
      "cell_type": "code",
      "source": [
        "numero = int(input(\"Digite um número para calcular o fatorial: \"))\n",
        "fatorial = 1 # começa em 1 poque se usar o zero calcula errado\n",
        "\n",
        "for i in range(1, numero + 1): # No range o ultimo numero sempre para a contagem sempre  UM NUMERO ANTES DELE, por isso acrescenta o +1\n",
        "  fatorial = fatorial * i\n",
        "\n",
        "print(f\"O fatorial de {numero} é: {fatorial}\")"
      ],
      "metadata": {
        "id": "XmExoj02IBT8",
        "colab": {
          "base_uri": "https://localhost:8080/"
        },
        "outputId": "d8ff87c9-24c9-4cee-c7a0-43a27b027a76"
      },
      "execution_count": null,
      "outputs": [
        {
          "output_type": "stream",
          "name": "stdout",
          "text": [
            "Digite um número para calcular o fatorial: 5\n",
            "O fatorial de 5 é: 120\n"
          ]
        }
      ]
    },
    {
      "cell_type": "markdown",
      "source": [
        "# 11. Conversor de Moedas Simples\n",
        "**Enunciado:** Crie um programa que converta um valor em reais para dólares ou euros. O programa deve permitir que o usuário escolha a moeda de destino e insira o valor a ser convertido, utilizando uma taxa de câmbio fixa definida no código."
      ],
      "metadata": {
        "id": "KI1u8C3-R_ne"
      }
    },
    {
      "cell_type": "code",
      "source": [
        "# cotação do dia 13/08/2025\n",
        "DOLAR = 5.40\n",
        "EURO = 6.30\n",
        "\n",
        "while True:\n",
        "  print(\"Conversor de Real R$\")\n",
        "  print(\"1. $ Dolar\")\n",
        "  print(\"2. € Euro\")\n",
        "  print(\"3. Sair\")\n",
        "  opcao = input(\"Selecione uma opção:\")\n",
        "\n",
        "  if opcao == '1':\n",
        "    real = float(input(\"Digite o valor em reais: \"))\n",
        "    conversao = real / DOLAR\n",
        "    print(f\"R$ {real:.2f} equivalem a $ {conversao:.2f}\")\n",
        "\n",
        "  elif opcao == '2':\n",
        "    real = float(input(\"Digite o valor em reais: \"))\n",
        "    conversao = real / EURO\n",
        "    print(f\"R$ {real:.2f} equivalem a € {conversao:.2f}\")\n",
        "\n",
        "  elif opcao == '3':\n",
        "    break\n",
        "  else:\n",
        "    print(\"Opção inválida\")"
      ],
      "metadata": {
        "id": "dlkq_VYoSmfX",
        "colab": {
          "base_uri": "https://localhost:8080/"
        },
        "outputId": "cc71f266-4182-4ffe-d7d5-2f7361b986ac"
      },
      "execution_count": null,
      "outputs": [
        {
          "name": "stdout",
          "output_type": "stream",
          "text": [
            "Conversor de Real R$\n",
            "1. $ Dolar\n",
            "2. € Euro\n",
            "3. Sair\n",
            "Selecione uma opção:1\n",
            "Digite o valor em reais: 50\n",
            "R$ 50.00 equivalem a $ 9.26\n",
            "Conversor de Real R$\n",
            "1. $ Dolar\n",
            "2. € Euro\n",
            "3. Sair\n",
            "Selecione uma opção:3\n"
          ]
        }
      ]
    },
    {
      "cell_type": "markdown",
      "source": [
        "# 12. Contador de Palavras\n",
        "**Enunciado:** Desenvolva um script que conte o número de palavras em uma frase fornecida pelo usuário. O programa deve ignorar pontuações e considerar apenas as palavras separadas por espaços."
      ],
      "metadata": {
        "id": "djQKwQQmYYOv"
      }
    },
    {
      "cell_type": "code",
      "source": [
        "frase = input(\"Digite uma frase: \")\n",
        "frase_limpa = frase\n",
        "\n",
        "# Remove todos os caracteres de pontuação\n",
        "pontuacoes = '''!()-[]{};:'\"\\,<>./?@#$%^&*_~'''\n",
        "for pontuacao in pontuacoes:\n",
        "    frase_limpa = frase_limpa.replace(pontuacao, \"\")\n",
        "\n",
        "print(f\"A frase tem {len(frase_limpa.split())} palavras\")\n",
        "\n"
      ],
      "metadata": {
        "id": "PcTgp03TYu-n",
        "colab": {
          "base_uri": "https://localhost:8080/"
        },
        "outputId": "fac4e30a-f897-4b50-fb3d-cd4d84b2bc5f"
      },
      "execution_count": null,
      "outputs": [
        {
          "output_type": "stream",
          "name": "stdout",
          "text": [
            "Digite uma frase: o diego, aquele cara lá\n",
            "A frase tem 5 palavras\n"
          ]
        }
      ]
    },
    {
      "cell_type": "markdown",
      "source": [
        "# 13. Gerador de Números Aleatórios\n",
        "**Enunciado:** Escreva um programa que gere n números aleatórios entre um intervalo fornecido pelo usuário. O programa deve solicitar o valor de n e os limites inferior e superior do intervalo."
      ],
      "metadata": {
        "id": "LCt84LxlYeye"
      }
    },
    {
      "cell_type": "code",
      "source": [
        "import random\n",
        "\n",
        "numeros = int(input(\"Digite a quantidade de números que deseja gerar: \"))\n",
        "limite_inferior = int(input(\"Digite o limite  do intervalo inferior: \"))\n",
        "limite_superior = int(input(\"Digite o limite do intervalo superior: \"))\n",
        "\n",
        "print(f\"{numeros} Números sorteados: \")\n",
        "for i in range(numeros):\n",
        "  numero = random.randint(limite_inferior, limite_superior)\n",
        "  print(numero)"
      ],
      "metadata": {
        "id": "eVXMt1V1Yx73",
        "colab": {
          "base_uri": "https://localhost:8080/"
        },
        "outputId": "d21a2dc1-f618-40b0-d09e-405b24a18afa"
      },
      "execution_count": null,
      "outputs": [
        {
          "output_type": "stream",
          "name": "stdout",
          "text": [
            "Digite a quantidade de números que deseja gerar: 4\n",
            "Digite o limite  do intervalo inferior: 10\n",
            "Digite o limite do intervalo superior: 100\n",
            "4 Números sorteados: \n",
            "27\n",
            "86\n",
            "56\n",
            "18\n"
          ]
        }
      ]
    },
    {
      "cell_type": "markdown",
      "source": [
        "# 14. Calculadora de Média Ponderada\n",
        "**Enunciado:** Implemente uma calculadora que permita ao usuário calcular a média ponderada de um conjunto de notas. O usuário deve inserir as notas e os respectivos pesos, e o programa deve calcular e exibir a média ponderada."
      ],
      "metadata": {
        "id": "l7p28sRlYpQH"
      }
    },
    {
      "cell_type": "code",
      "source": [
        "notas = []\n",
        "pesos = []\n",
        "\n",
        "while True:\n",
        "  nota = input(\"Digite a nota ou 'fim' para encerrar e calcular: \")\n",
        "  if nota == \"fim\":\n",
        "    break\n",
        "  notas.append(float(nota))\n",
        "  peso = float(input(\"Digite o peso da nota: \"))\n",
        "  pesos.append(peso)\n",
        "\n",
        "soma_produto = 0\n",
        "soma_pesos = sum(pesos)\n",
        "\n",
        "for i in range(len(notas)):\n",
        "  soma_produto += notas[i] * pesos[i]\n",
        "\n",
        "media_ponderada = soma_produto / soma_pesos\n",
        "\n",
        "print(f\"A média ponderada é: {media_ponderada}\")"
      ],
      "metadata": {
        "id": "vPmJ4mhCY6Wf",
        "colab": {
          "base_uri": "https://localhost:8080/"
        },
        "outputId": "4803035d-215d-44d7-cf49-174171646929"
      },
      "execution_count": null,
      "outputs": [
        {
          "output_type": "stream",
          "name": "stdout",
          "text": [
            "Digite a nota ou 'fim' para encerrar: 10\n",
            "Digite o peso da nota: 1\n",
            "Digite a nota ou 'fim' para encerrar: 20\n",
            "Digite o peso da nota: 2\n",
            "Digite a nota ou 'fim' para encerrar: fim\n",
            "A média ponderada é: 16.666666666666668\n"
          ]
        }
      ]
    },
    {
      "cell_type": "markdown",
      "source": [
        "# 15. Cálculo de Raiz Quadrada\n",
        "**Enunciado:** Desenvolva um programa que calcule a raiz quadrada de um número fornecido pelo usuário. Utilize a função sqrt() do módulo math e exiba o resultado."
      ],
      "metadata": {
        "id": "ReTMJz8nr5Hs"
      }
    },
    {
      "cell_type": "code",
      "source": [
        "import math\n",
        "\n",
        "numero = float(input(\"Digite um número: \"))\n",
        "raiz_quadrada = math.sqrt(numero)\n",
        "\n",
        "print(f\"A raiz quadrada de {numero} é: {raiz_quadrada}\")"
      ],
      "metadata": {
        "colab": {
          "base_uri": "https://localhost:8080/"
        },
        "id": "C1Lw-xijsEEk",
        "outputId": "743ae593-d378-4e19-dec1-1236e2ba082e"
      },
      "execution_count": null,
      "outputs": [
        {
          "output_type": "stream",
          "name": "stdout",
          "text": [
            "Digite um número: 49\n",
            "A raiz quadrada de 49.0 é: 7.0\n"
          ]
        }
      ]
    },
    {
      "cell_type": "markdown",
      "source": [
        "# 16. Simulador de Caixa Eletrônico\n",
        "**Enunciado:** Crie um programa que simule um caixa eletrônico. O usuário deve inserir o valor que deseja sacar, e o programa deve exibir quantas notas de cada valor serão entregues (R$100, R$50, R$20, R$10)."
      ],
      "metadata": {
        "id": "e_M4whYNt5j8"
      }
    },
    {
      "cell_type": "code",
      "source": [
        "saque = int(input(\"Digite o valor que deseja sacar: \"))\n",
        "\n",
        "# Se o valor digitado não for nultiplo de 10 ja retorna o erro\n",
        "if saque % 10 != 0:\n",
        "  print(\"Valor inválido!!! digite um valor multiplo de 10\")\n",
        "\n",
        "else:\n",
        "  nota_100 = saque // 100\n",
        "  saque = saque % 100\n",
        "\n",
        "  nota_50 = saque // 50\n",
        "  saque = saque % 50\n",
        "\n",
        "  nota_20 = saque // 20\n",
        "  saque = saque % 20\n",
        "\n",
        "  nota_10 = saque // 10\n",
        "  saque = saque % 10\n",
        "\n",
        "print(f\"Notas de R$100: {nota_100}\")\n",
        "print(f\"Notas de R$50: {nota_50}\")\n",
        "print(f\"Notas de R$20: {nota_20}\")\n",
        "print(f\"Notas de R$10: {nota_10}\")"
      ],
      "metadata": {
        "id": "UjMA5UkSuTz8",
        "colab": {
          "base_uri": "https://localhost:8080/"
        },
        "outputId": "5f5b4731-963c-4a42-eb32-702d4b72160d"
      },
      "execution_count": null,
      "outputs": [
        {
          "output_type": "stream",
          "name": "stdout",
          "text": [
            "Digite o valor que deseja sacar: 5090\n",
            "Notas de R$100: 50\n",
            "Notas de R$50: 1\n",
            "Notas de R$20: 2\n",
            "Notas de R$10: 0\n"
          ]
        }
      ]
    },
    {
      "cell_type": "markdown",
      "source": [
        "# 17. Verificador de Ano Bissexto\n",
        "**Enunciado:** Escreva um programa que determine se um ano fornecido pelo usuário é bissexto. O programa deve seguir as regras para anos bissextos (divisíveis por 4, exceto se divisíveis por 100, mas divisíveis por 400)."
      ],
      "metadata": {
        "id": "DIXLu1Tyt59s"
      }
    },
    {
      "cell_type": "code",
      "source": [
        "ano = int(input(\"Digite um ano: \"))\n",
        "\n",
        "if (ano % 4 ==0 and ano % 100 !=0) or (ano % 400 == 0):\n",
        "  print(f\"{ano} é um ano bissexto\")\n",
        "else:\n",
        "  print(f\"{ano} não é um ano bissexto\")"
      ],
      "metadata": {
        "id": "sAm8B_wJuUZ0",
        "colab": {
          "base_uri": "https://localhost:8080/"
        },
        "outputId": "07615143-404b-4eb2-81c6-a068c7b075cb"
      },
      "execution_count": null,
      "outputs": [
        {
          "output_type": "stream",
          "name": "stdout",
          "text": [
            "Digite um ano: 2024\n",
            "2024 é um ano bissexto\n"
          ]
        }
      ]
    },
    {
      "cell_type": "markdown",
      "source": [
        "# 18. Gerenciador de Contatos Simples\n",
        "**Enunciado:** Desenvolva um sistema simples para gerenciar contatos, onde o usuário pode adicionar, remover e listar contatos (nome e telefone). Utilize um dicionário para armazenar os contatos."
      ],
      "metadata": {
        "id": "tSThEMqjt6kc"
      }
    },
    {
      "cell_type": "code",
      "source": [
        "contatos = {}\n",
        "\n",
        "while True:\n",
        "  print(\"MENU PRINCIPAL\")\n",
        "  print(\"1. Adicionar contato\")\n",
        "  print(\"2. Remover contato\")\n",
        "  print(\"3. Listar contatos\")\n",
        "  print(\"4. Sair\")\n",
        "\n",
        "  opcao = input(\"Digite o numero da opção desejada: \")\n",
        "\n",
        "  if opcao == '1':\n",
        "    nome = input(\"Digite o nome do contato: \")\n",
        "    telefone = input(\"Digite o telefone do contato: \")\n",
        "    contatos[nome] = telefone\n",
        "    print(\"Contato adicionado com sucesso\")\n",
        "\n",
        "  elif opcao == '2':\n",
        "    nome = input(\"Digite o nome do contato que deseja remover: \")\n",
        "    if nome in contatos:\n",
        "      del contatos[nome]\n",
        "      print(\"Contato removido com sucesso\")\n",
        "    else:\n",
        "      print(\"Contato não encontrado\")\n",
        "\n",
        "  elif opcao == '3':\n",
        "    print(\"Lista de contatos:\")\n",
        "    for nome, telefone in contatos.items():\n",
        "      print(f\"Nome: {nome}, Telefone: {telefone}\")\n",
        "\n",
        "  elif opcao == '4':\n",
        "    break\n",
        "\n",
        "  else:\n",
        "    print(\"Opção inválida, digite um numero válido\")"
      ],
      "metadata": {
        "id": "ArXz1PVTuVEs",
        "colab": {
          "base_uri": "https://localhost:8080/"
        },
        "outputId": "6916b3ed-1a94-44bf-8fc7-98f65d297b4a"
      },
      "execution_count": null,
      "outputs": [
        {
          "name": "stdout",
          "output_type": "stream",
          "text": [
            "MENU PRINCIPAL\n",
            "1. Adicionar contato\n",
            "2. Remover contato\n",
            "3. Listar contatos\n",
            "4. Sair\n",
            "Digite o numero da opção desejada: 1\n",
            "Digite o nome do contato: Bruno\n",
            "Digite o telefone do contato: 123456789\n",
            "Contato adicionado com sucesso\n",
            "MENU PRINCIPAL\n",
            "1. Adicionar contato\n",
            "2. Remover contato\n",
            "3. Listar contatos\n",
            "4. Sair\n",
            "Digite o numero da opção desejada: 3\n",
            "Lista de contatos:\n",
            "Nome: Bruno, Telefone: 123456789\n",
            "MENU PRINCIPAL\n",
            "1. Adicionar contato\n",
            "2. Remover contato\n",
            "3. Listar contatos\n",
            "4. Sair\n",
            "Digite o numero da opção desejada: 4\n"
          ]
        }
      ]
    },
    {
      "cell_type": "markdown",
      "source": [
        "# 19. Calculadora de Desconto\n",
        "**Enunciado:** Crie um programa que calcule o preço final de um produto após a aplicação de um desconto. O usuário deve inserir o preço original e a porcentagem de desconto, e o programa deve exibir o preço final."
      ],
      "metadata": {
        "id": "5xYUS0xnt6-U"
      }
    },
    {
      "cell_type": "code",
      "source": [
        "preco = float(input(\"Digite o preço do produto: \"))\n",
        "porcentagem_desconto = float(input(\"Digite a porcentagem de desconto: \"))\n",
        "\n",
        "preco_final = preco * (1 - porcentagem_desconto/100)\n",
        "\n",
        "print(f\"O preço final do produto com {porcentagem_desconto}% de desconto é: {preco_final}\")"
      ],
      "metadata": {
        "id": "4AMp7qoquWJ0",
        "colab": {
          "base_uri": "https://localhost:8080/"
        },
        "outputId": "57c63b7e-dbdf-4b21-8602-4881d8d64968"
      },
      "execution_count": null,
      "outputs": [
        {
          "output_type": "stream",
          "name": "stdout",
          "text": [
            "Digite o preço do produto: 100\n",
            "Digite a porcentagem de desconto: 10\n",
            "O preço final do produto com 10.0% de desconto é: 90.0\n"
          ]
        }
      ]
    },
    {
      "cell_type": "markdown",
      "source": [
        "# 20. Análise de Dados Simples com Pandas e Matplotlib\n",
        "**Enunciado:** Utilize o Pandas para carregar um dataset simples, como o conjunto de dados do Titanic ou Iris, disponível na biblioteca seaborn. Realize uma análise básica para calcular estatísticas descritivas, como média e mediana de colunas numéricas. Em seguida, utilize o Matplotlib para criar gráficos simples (como histogramas ou gráficos de barras) que visualizem algumas dessas estatísticas ou distribuições."
      ],
      "metadata": {
        "id": "vLATFu0It7Y0"
      }
    },
    {
      "cell_type": "code",
      "source": [
        "# Importa as bibliotecas necessárias com seu \"Apelidos\" padrões\n",
        "import pandas as pd\n",
        "import seaborn as sns\n",
        "import matplotlib.pyplot as plt\n",
        "\n",
        "# Carrega o dataset do titanic para um DataFrame do pandas\n",
        "df_titanic = sns.load_dataset('titanic')\n",
        "\n",
        "# Exibe as 5 primeiras linhas do DataFrame\n",
        "print(\"--- Amostra dos Dados ---\")\n",
        "print(df_titanic.head())\n",
        "\n",
        "# Calcula a media de idade\n",
        "media_idade = df_titanic['age'].mean()\n",
        "\n",
        "# Calcula a mediana da tarifa do ticket\n",
        "mediana_tarifa = df_titanic['fare'].median()\n",
        "\n",
        "print(\"\\n--- Análise Estatística ---\")\n",
        "print(f\"A média de idade foi: {media_idade}\")\n",
        "print(f\"A mediana da tarifa foi: {mediana_tarifa}\")\n",
        "\n",
        "print(\"\\n--- Gráficos ---\")\n",
        "\n",
        "# Aqui define o que vai \"plotar\"\n",
        "plt.hist(df_titanic['age'])\n",
        "\n",
        "# Adiciona títulos para clareza\n",
        "plt.title('Distribuição de Idade dos Passageiros do Titanic')\n",
        "plt.xlabel('Idade')\n",
        "plt.ylabel('Número de Pessoas')\n",
        "\n",
        "# Mostra o gráfico\n",
        "plt.show()"
      ],
      "metadata": {
        "id": "-GZT95kHuW2M",
        "colab": {
          "base_uri": "https://localhost:8080/",
          "height": 819
        },
        "outputId": "d748ed1a-9760-44cc-8135-d7325b7e1e9f"
      },
      "execution_count": 6,
      "outputs": [
        {
          "output_type": "stream",
          "name": "stdout",
          "text": [
            "--- Amostra dos Dados ---\n",
            "   survived  pclass     sex   age  sibsp  parch     fare embarked  class  \\\n",
            "0         0       3    male  22.0      1      0   7.2500        S  Third   \n",
            "1         1       1  female  38.0      1      0  71.2833        C  First   \n",
            "2         1       3  female  26.0      0      0   7.9250        S  Third   \n",
            "3         1       1  female  35.0      1      0  53.1000        S  First   \n",
            "4         0       3    male  35.0      0      0   8.0500        S  Third   \n",
            "\n",
            "     who  adult_male deck  embark_town alive  alone  \n",
            "0    man        True  NaN  Southampton    no  False  \n",
            "1  woman       False    C    Cherbourg   yes  False  \n",
            "2  woman       False  NaN  Southampton   yes   True  \n",
            "3  woman       False    C  Southampton   yes  False  \n",
            "4    man        True  NaN  Southampton    no   True  \n",
            "\n",
            "--- Análise Estatística ---\n",
            "A média de idade foi: 29.69911764705882\n",
            "A mediana da tarifa foi: 14.4542\n",
            "\n",
            "--- Gráficos ---\n"
          ]
        },
        {
          "output_type": "display_data",
          "data": {
            "text/plain": [
              "<Figure size 640x480 with 1 Axes>"
            ],
            "image/png": "[encoded data removed]"
          },
          "metadata": {}
        }
      ]
    }
  ]
}