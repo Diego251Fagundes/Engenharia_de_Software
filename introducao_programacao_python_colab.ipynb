{
  "nbformat": 4,
  "nbformat_minor": 0,
  "metadata": {
    "colab": {
      "provenance": [],
      "authorship_tag": "ABX9TyPNQT24Mx37rYPFpvN2Uufn",
      "include_colab_link": true
    },
    "kernelspec": {
      "name": "python3",
      "display_name": "Python 3"
    },
    "language_info": {
      "name": "python"
    }
  },
  "cells": [
    {
      "cell_type": "markdown",
      "metadata": {
        "id": "view-in-github",
        "colab_type": "text"
      },
      "source": [
        "<a href=\"https://colab.research.google.com/github/Diego251Fagundes/UMC--IA/blob/main/introducao_programacao_python_colab.ipynb\" target=\"_parent\"><img src=\"https://colab.research.google.com/assets/colab-badge.svg\" alt=\"Open In Colab\"/></a>"
      ]
    },
    {
      "cell_type": "markdown",
      "source": [
        "# **2.1. Primeiros Comandos no Python:**"
      ],
      "metadata": {
        "id": "hOvuKBl6PdnP"
      }
    },
    {
      "cell_type": "code",
      "source": [
        "print (\"Hello, World!\")"
      ],
      "metadata": {
        "colab": {
          "base_uri": "https://localhost:8080/"
        },
        "id": "NMbeF0G9gZkj",
        "outputId": "adaee50f-e692-4805-e966-01d5664947e4"
      },
      "execution_count": null,
      "outputs": [
        {
          "output_type": "stream",
          "name": "stdout",
          "text": [
            "Hello, World!\n"
          ]
        }
      ]
    },
    {
      "cell_type": "markdown",
      "source": [
        "# **2.2. Variáveis e Tipos de Dados:**"
      ],
      "metadata": {
        "id": "saKLGmexP0SH"
      }
    },
    {
      "cell_type": "code",
      "source": [
        "nome=\"João\"\n",
        "idade= 21\n",
        "altura=1.75\n",
        "print(nome,idade,altura)"
      ],
      "metadata": {
        "colab": {
          "base_uri": "https://localhost:8080/"
        },
        "id": "Zv3DvOWnhH7W",
        "outputId": "0c33a89e-7aee-43c5-868e-342b286d057e"
      },
      "execution_count": null,
      "outputs": [
        {
          "output_type": "stream",
          "name": "stdout",
          "text": [
            "João 21 1.75\n"
          ]
        }
      ]
    },
    {
      "cell_type": "markdown",
      "source": [
        "# **Resumos dos tipos de dados em Python**\n",
        "\n",
        "*   int: inteiro\n",
        "*   Float: numero com virgula\n",
        "*   Str: para String\n",
        "*   Bool: verdadeiro ou falso\n",
        "*   List: lista\n",
        "*   Tuple: lista que nao pode ser alterada\n",
        "*   Set: conjunto de valores unicos sem ordem\n",
        "*   Dict: Dicionario\n",
        "*   NoneType: representa ausencia de valor"
      ],
      "metadata": {
        "id": "qnRRDFBTjtoS"
      }
    },
    {
      "cell_type": "markdown",
      "source": [
        "# **2.3. Operações Aritméticas:**"
      ],
      "metadata": {
        "id": "j2ZSg-GaSSk3"
      }
    },
    {
      "cell_type": "code",
      "source": [
        "a = 10\n",
        "b = 5\n",
        "soma = a + b\n",
        "subtracao = a - b\n",
        "multiplicacao = a * b\n",
        "divisao = a / b\n",
        "\n",
        "print(soma, subtracao, multiplicacao, divisao)"
      ],
      "metadata": {
        "colab": {
          "base_uri": "https://localhost:8080/"
        },
        "id": "wolGfh5Yko2K",
        "outputId": "99d0e9c5-0144-46f1-b8ea-12f203235cbb"
      },
      "execution_count": null,
      "outputs": [
        {
          "output_type": "stream",
          "name": "stdout",
          "text": [
            "15 5 50 2.0\n"
          ]
        }
      ]
    },
    {
      "cell_type": "markdown",
      "source": [
        "# **3. Desafios Práticos**\n",
        "\n",
        "# **3.1. Calculadora Básica:**\n"
      ],
      "metadata": {
        "id": "eaGHfeXkSjkf"
      }
    },
    {
      "cell_type": "code",
      "source": [
        "# Solicita os dois números do tipo float\n",
        "num1 = float(input(\"Digite o primeiro número: \"))\n",
        "num2 = float(input(\"Digite o segundo número: \"))\n",
        "\n",
        "# Solicita o tipo de operação a se realizar\n",
        "operacao = input(\"Escolha a operação (+, -, *, /): \")\n",
        "\n",
        "# Recebe e executa a operação\n",
        "if operacao == \"+\":\n",
        "    resultado = num1 + num2\n",
        "elif operacao == \"-\":\n",
        "    resultado = num1 - num2\n",
        "elif operacao == \"*\":\n",
        "    resultado = num1 * num2\n",
        "elif operacao == \"/\":\n",
        "    if num2 != 0:\n",
        "        resultado = num1 / num2\n",
        "    else:\n",
        "        resultado = \"Erro: divisão por zero!\"\n",
        "else:\n",
        "    resultado = \"Operação inválida!\"\n",
        "\n",
        "# Exibe o resultado de acordo com a operação escolhida\n",
        "print(\"Resultado:\", resultado)"
      ],
      "metadata": {
        "colab": {
          "base_uri": "https://localhost:8080/"
        },
        "id": "_pvEe9qQmhoM",
        "outputId": "525a77ed-d270-48fc-f098-0f163f2618c7"
      },
      "execution_count": null,
      "outputs": [
        {
          "output_type": "stream",
          "name": "stdout",
          "text": [
            "Digite o primeiro número: 1\n",
            "Digite o segundo número: 2\n",
            "Escolha a operação (+, -, *, /): *\n",
            "Resultado: 2.0\n"
          ]
        }
      ]
    },
    {
      "cell_type": "markdown",
      "source": [
        "# **3.2. Conversor de Temperatura:**"
      ],
      "metadata": {
        "id": "BOxbSGsBTtMX"
      }
    },
    {
      "cell_type": "code",
      "source": [
        "# Converte Celsius para Fahrenheit\n",
        "def celsius_para_fahrenheit(celsius):\n",
        "  fahrenheit = (celsius * 9/5) + 32\n",
        "  return fahrenheit\n",
        "\n",
        "# Converte Fahrenheit para Celsius\n",
        "def fahrenheit_para_celsius(fahrenheit):\n",
        "  celsius = (fahrenheit-32) * 5/9\n",
        "  return celsius\n",
        "\n",
        "# Fornece as opções para o usuário\n",
        "print(\"1. Celsius para Fahrenheit\")\n",
        "print(\"2. Fahrenheit para Celsius\")\n",
        "opcao = int(input(\"Digite o número da opção desejada: \"))\n",
        "\n",
        "if opcao ==1:\n",
        "  celsius = float(input(\"Digite a temperatura em Celsius:\"))\n",
        "  fahrenheit = celsius_para_fahrenheit(celsius)\n",
        "  print(\"A temperatura em Fahrenheit é:\", fahrenheit)\n",
        "elif opcao ==2:\n",
        "  fahrenheit = float(input(\"Digite a temperatura em Fahrenheit:\"))\n",
        "  celsius = fahrenheit_para_celsius(fahrenheit)\n",
        "  print(\"A temperatura em Celsius é:\", celsius)\n",
        "else:\n",
        "  print(\"Opção inválida\")"
      ],
      "metadata": {
        "colab": {
          "base_uri": "https://localhost:8080/"
        },
        "id": "S73YBRSiT1vf",
        "outputId": "d017e747-b8e9-43e0-bf4c-e021549cb99b"
      },
      "execution_count": 2,
      "outputs": [
        {
          "output_type": "stream",
          "name": "stdout",
          "text": [
            "1. Celsius para Fahrenheit\n",
            "2. Fahrenheit para Celsius\n",
            "Digite o número da opção desejada: 1\n",
            "Digite a temperatura em Celsius:30\n",
            "A temperatura em Fahrenheit é: 86.0\n"
          ]
        }
      ]
    },
    {
      "cell_type": "markdown",
      "source": [
        "# **3.3. Contador de Palavras:**"
      ],
      "metadata": {
        "id": "Gc_OOkv_Ybi_"
      }
    },
    {
      "cell_type": "code",
      "source": [
        "frase = input(\"Digite uma frase:\")\n",
        "\n",
        "# o .split quebra a frase em uma lista e o len() conta a quantidade de itens dessa lista\n",
        "print(f\"A frase tem {len(frase.split())} palavras\")\n",
        "\n"
      ],
      "metadata": {
        "colab": {
          "base_uri": "https://localhost:8080/"
        },
        "id": "UR87g0rIZlTX",
        "outputId": "23af1827-1d2d-4bd8-95d1-948ec6dc295f"
      },
      "execution_count": 7,
      "outputs": [
        {
          "output_type": "stream",
          "name": "stdout",
          "text": [
            "Digite uma frase:Eu programo em python\n",
            "A frase tem 4 palavras\n"
          ]
        }
      ]
    },
    {
      "cell_type": "markdown",
      "source": [
        "# **3.4. Aplicativo mais complexo**"
      ],
      "metadata": {
        "id": "1_rfJCvkhwbn"
      }
    },
    {
      "cell_type": "code",
      "source": [
        "\"\"\"\n",
        "==========================================\n",
        "CALCULADORA DE GEOMETRIA E FÍSICA\n",
        "==========================================\n",
        "\n",
        "Este programa é um aplicativo simples de terminal que permite:\n",
        "1. Calcular áreas de figuras geométricas (quadrado, retângulo, triângulo, círculo)\n",
        "2. Realizar cálculos básicos de física (velocidade média, força, energia cinética)\n",
        "\n",
        "O usuário interage por meio de menus e o programa só encerra quando ele escolher a opção 'Sair'.\n",
        "\"\"\"\n",
        "\n",
        "import math  # Biblioteca usada para o valor de pi\n",
        "\n",
        "# ========================\n",
        "# FUNÇÕES DE GEOMETRIA\n",
        "# ========================\n",
        "def area_quadrado():\n",
        "    lado = float(input(\"Digite o valor do lado: \"))\n",
        "    print(f\"Área do quadrado: {lado ** 2:.2f} m²\")\n",
        "\n",
        "def area_retangulo():\n",
        "    base = float(input(\"Digite a base: \"))\n",
        "    altura = float(input(\"Digite a altura: \"))\n",
        "    print(f\"Área do retângulo: {base * altura:.2f} m²\")\n",
        "\n",
        "def area_triangulo():\n",
        "    base = float(input(\"Digite a base: \"))\n",
        "    altura = float(input(\"Digite a altura: \"))\n",
        "    print(f\"Área do triângulo: {(base * altura) / 2:.2f} m²\")\n",
        "\n",
        "def area_circulo():\n",
        "    raio = float(input(\"Digite o raio: \"))\n",
        "    print(f\"Área do círculo: {math.pi * (raio ** 2):.2f} m²\")\n",
        "\n",
        "# ========================\n",
        "# FUNÇÕES DE FÍSICA\n",
        "# ========================\n",
        "def velocidade_media():\n",
        "    distancia = float(input(\"Digite a distância percorrida (m): \"))\n",
        "    tempo = float(input(\"Digite o tempo (s): \"))\n",
        "    if tempo != 0:\n",
        "        print(f\"Velocidade média: {distancia / tempo:.2f} m/s\")\n",
        "    else:\n",
        "        print(\"Erro: tempo não pode ser zero.\")\n",
        "\n",
        "def forca():\n",
        "    massa = float(input(\"Digite a massa (kg): \"))\n",
        "    aceleracao = float(input(\"Digite a aceleração (m/s²): \"))\n",
        "    print(f\"Força: {massa * aceleracao:.2f} N\")\n",
        "\n",
        "def energia_cinetica():\n",
        "    massa = float(input(\"Digite a massa (kg): \"))\n",
        "    velocidade = float(input(\"Digite a velocidade (m/s): \"))\n",
        "    print(f\"Energia cinética: {(massa * (velocidade ** 2)) / 2:.2f} J\")\n",
        "\n",
        "# ========================\n",
        "# MENUS\n",
        "# ========================\n",
        "def menu_geometria():\n",
        "    while True:\n",
        "        print(\"\\n--- MENU GEOMETRIA ---\")\n",
        "        print(\"1. Área do quadrado\")\n",
        "        print(\"2. Área do retângulo\")\n",
        "        print(\"3. Área do triângulo\")\n",
        "        print(\"4. Área do círculo\")\n",
        "        print(\"0. Voltar\")\n",
        "        opcao = input(\"Escolha uma opção: \")\n",
        "\n",
        "        if opcao == \"1\":\n",
        "            area_quadrado()\n",
        "        elif opcao == \"2\":\n",
        "            area_retangulo()\n",
        "        elif opcao == \"3\":\n",
        "            area_triangulo()\n",
        "        elif opcao == \"4\":\n",
        "            area_circulo()\n",
        "        elif opcao == \"0\":\n",
        "            break\n",
        "        else:\n",
        "            print(\"Opção inválida.\")\n",
        "\n",
        "def menu_fisica():\n",
        "    while True:\n",
        "        print(\"\\n--- MENU FÍSICA ---\")\n",
        "        print(\"1. Velocidade média\")\n",
        "        print(\"2. Força (2ª Lei de Newton)\")\n",
        "        print(\"3. Energia cinética\")\n",
        "        print(\"0. Voltar\")\n",
        "        opcao = input(\"Escolha uma opção: \")\n",
        "\n",
        "        if opcao == \"1\":\n",
        "            velocidade_media()\n",
        "        elif opcao == \"2\":\n",
        "            forca()\n",
        "        elif opcao == \"3\":\n",
        "            energia_cinetica()\n",
        "        elif opcao == \"0\":\n",
        "            break\n",
        "        else:\n",
        "            print(\"Opção inválida.\")\n",
        "\n",
        "# ========================\n",
        "# PROGRAMA PRINCIPAL\n",
        "# ========================\n",
        "def main():\n",
        "    while True:\n",
        "        print(\"\\n====== CALCULADORA ======\")\n",
        "        print(\"1. Geometria\")\n",
        "        print(\"2. Física\")\n",
        "        print(\"0. Sair\")\n",
        "        escolha = input(\"Escolha uma opção: \")\n",
        "\n",
        "        if escolha == \"1\":\n",
        "            menu_geometria()\n",
        "        elif escolha == \"2\":\n",
        "            menu_fisica()\n",
        "        elif escolha == \"0\":\n",
        "            print(\"Encerrando o programa. Até mais!\")\n",
        "            break\n",
        "        else:\n",
        "            print(\"Opção inválida.\")\n",
        "\n",
        "# Executa o programa\n",
        "if __name__ == \"__main__\":\n",
        "    main()\n"
      ],
      "metadata": {
        "colab": {
          "base_uri": "https://localhost:8080/"
        },
        "collapsed": true,
        "id": "nNeMXEHnhzFf",
        "outputId": "a0208ae1-9e5b-409c-d28e-e60d51f097e4"
      },
      "execution_count": 8,
      "outputs": [
        {
          "output_type": "stream",
          "name": "stdout",
          "text": [
            "\n",
            "====== CALCULADORA ======\n",
            "1. Geometria\n",
            "2. Física\n",
            "0. Sair\n",
            "Escolha uma opção: 1\n",
            "\n",
            "--- MENU GEOMETRIA ---\n",
            "1. Área do quadrado\n",
            "2. Área do retângulo\n",
            "3. Área do triângulo\n",
            "4. Área do círculo\n",
            "0. Voltar\n",
            "Escolha uma opção: 2\n",
            "Digite a base: 10\n",
            "Digite a altura: 20\n",
            "Área do retângulo: 200.00 m²\n",
            "\n",
            "--- MENU GEOMETRIA ---\n",
            "1. Área do quadrado\n",
            "2. Área do retângulo\n",
            "3. Área do triângulo\n",
            "4. Área do círculo\n",
            "0. Voltar\n",
            "Escolha uma opção: 0\n",
            "\n",
            "====== CALCULADORA ======\n",
            "1. Geometria\n",
            "2. Física\n",
            "0. Sair\n",
            "Escolha uma opção: 2\n",
            "\n",
            "--- MENU FÍSICA ---\n",
            "1. Velocidade média\n",
            "2. Força (2ª Lei de Newton)\n",
            "3. Energia cinética\n",
            "0. Voltar\n",
            "Escolha uma opção: 1\n",
            "Digite a distância percorrida (m): 100\n",
            "Digite o tempo (s): 10\n",
            "Velocidade média: 10.00 m/s\n",
            "\n",
            "--- MENU FÍSICA ---\n",
            "1. Velocidade média\n",
            "2. Força (2ª Lei de Newton)\n",
            "3. Energia cinética\n",
            "0. Voltar\n",
            "Escolha uma opção: 0\n",
            "\n",
            "====== CALCULADORA ======\n",
            "1. Geometria\n",
            "2. Física\n",
            "0. Sair\n",
            "Escolha uma opção: 0\n",
            "Encerrando o programa. Até mais!\n"
          ]
        }
      ]
    },
    {
      "cell_type": "markdown",
      "source": [
        "# **Documentação feita pelo ChatGPT**\n",
        "\n",
        "Título: Calculadora de Geometria e Física\n",
        "Objetivo:\n",
        "Facilitar o cálculo rápido de áreas de figuras geométricas e algumas fórmulas básicas de física, diretamente pelo terminal.\n",
        "\n",
        "Funcionalidades:\n",
        "\n",
        "Geometria: Área do quadrado, retângulo, triângulo e círculo.\n",
        "\n",
        "Física: Velocidade média, força e energia cinética.\n",
        "\n",
        "Como funciona:\n",
        "\n",
        "O usuário inicia o programa e vê o menu principal.\n",
        "\n",
        "Escolhe se quer cálculos de Geometria ou Física.\n",
        "\n",
        "Dentro do submenu, escolhe a fórmula desejada.\n",
        "\n",
        "Informa os valores solicitados e recebe o resultado formatado com 2 casas decimais.\n",
        "\n",
        "Pode voltar ao menu ou sair a qualquer momento.\n",
        "\n",
        "Tecnologias e conceitos usados:\n",
        "\n",
        "Python 3\n",
        "\n",
        "Estruturas de repetição (while)\n",
        "\n",
        "Condicionais (if/elif/else)\n",
        "\n",
        "Funções (def)\n",
        "\n",
        "Importação de biblioteca (math)\n",
        "\n",
        "Entrada de dados (input) e conversão de tipos (float)"
      ],
      "metadata": {
        "id": "8DJoqSkokuof"
      }
    },
    {
      "cell_type": "markdown",
      "source": [
        "# **Reflexão**\n",
        "\n"
      ],
      "metadata": {
        "id": "Xhfk-rs8k9AA"
      }
    },
    {
      "cell_type": "markdown",
      "source": [
        "O ChatGPT me ajudou a relembrar conceitos básicos do Python desde os primeiros comandos como print(\"Hello World\") , até operações aritméticas básicas(+, -, /, *).\n",
        "O que foi muito fácil pois ele além de explicar as funcionalidades e os conceitos de cada comando, ele demonstrou exemplos claros e fez resumos em cada etapa dessa ativade. O que me ajudou bastante a superar os desafios propostos e aprender um pouco de forma prática e autodidata sobre o python.\n",
        "No entanto também entendo que não posso confiar 100% na ferramenta por mais que ela tenha me ajudado nessa atividade ainda é necessário vericar e testar todas as informações fornecidas pela IA."
      ],
      "metadata": {
        "id": "3rfFJnCMlBWP"
      }
    }
  ]
}